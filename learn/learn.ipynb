{
 "cells": [
  {
   "cell_type": "code",
   "execution_count": 2,
   "metadata": {},
   "outputs": [
    {
     "name": "stdout",
     "output_type": "stream",
     "text": [
      "hello! world\n"
     ]
    }
   ],
   "source": [
    "import subprocess\n",
    "p = subprocess.Popen([\"python\", \"helloworld.py\"])"
   ]
  },
  {
   "cell_type": "code",
   "execution_count": null,
   "metadata": {},
   "outputs": [],
   "source": [
    "Ps=[]\n",
    "p1 = subprocess.Popen([\"python\", \"helloworld.py\"])\n",
    "Ps.append(p1)\n",
    "p2 = subprocess.Popen([\"python\", \"helloworld2.py\"])\n",
    "Ps.append(p2)\n",
    "for p in Ps:\n",
    "    p.wait()\n",
    "    p.returncode\n",
    "#0:执行完毕且没有报错。\n",
    "# 非0：执行中报了错，停止了运行\n",
    "# None:还没有执行完毕。\n",
    "#只要有一个没有结束，就会一直等待\n",
    "print(\"All processes finished.\")\n"
   ]
  }
 ],
 "metadata": {
  "kernelspec": {
   "display_name": "deformable_detr",
   "language": "python",
   "name": "python3"
  },
  "language_info": {
   "codemirror_mode": {
    "name": "ipython",
    "version": 3
   },
   "file_extension": ".py",
   "mimetype": "text/x-python",
   "name": "python",
   "nbconvert_exporter": "python",
   "pygments_lexer": "ipython3",
   "version": "3.7.12"
  }
 },
 "nbformat": 4,
 "nbformat_minor": 2
}
